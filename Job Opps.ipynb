{
 "cells": [
  {
   "cell_type": "code",
   "execution_count": 30,
   "id": "090b49c4",
   "metadata": {},
   "outputs": [],
   "source": [
    "import scipy as sc\n",
    "import numpy as np\n",
    "import pandas as pd\n",
    "import matplotlib.pyplot as plt\n",
    "import seaborn as sns\n",
    "import plotly.express as px"
   ]
  },
  {
   "cell_type": "code",
   "execution_count": 31,
   "id": "94e82f15",
   "metadata": {},
   "outputs": [],
   "source": [
    "W7 = \"~/ECW7.csv\"\n",
    "W8 = \"~/ECW8.csv\"\n",
    "DOC = \"~/ECWDOC.csv\"\n",
    "df = pd.read_csv(DOC)\n",
    "df2 = pd.read_csv(W7)\n",
    "df3 = pd.read_csv(W8)"
   ]
  },
  {
   "cell_type": "code",
   "execution_count": 32,
   "id": "b91f20f3",
   "metadata": {},
   "outputs": [
    {
     "data": {
      "text/html": [
       "<div>\n",
       "<style scoped>\n",
       "    .dataframe tbody tr th:only-of-type {\n",
       "        vertical-align: middle;\n",
       "    }\n",
       "\n",
       "    .dataframe tbody tr th {\n",
       "        vertical-align: top;\n",
       "    }\n",
       "\n",
       "    .dataframe thead th {\n",
       "        text-align: right;\n",
       "    }\n",
       "</style>\n",
       "<table border=\"1\" class=\"dataframe\">\n",
       "  <thead>\n",
       "    <tr style=\"text-align: right;\">\n",
       "      <th></th>\n",
       "      <th>Category</th>\n",
       "      <th>Employed Civilian 16+ by Industry (Percent)</th>\n",
       "    </tr>\n",
       "  </thead>\n",
       "  <tbody>\n",
       "    <tr>\n",
       "      <th>0</th>\n",
       "      <td>Accommodation/Food Services</td>\n",
       "      <td>6.75</td>\n",
       "    </tr>\n",
       "    <tr>\n",
       "      <th>1</th>\n",
       "      <td>Admin/Spprt/Waste Mgmt</td>\n",
       "      <td>3.63</td>\n",
       "    </tr>\n",
       "    <tr>\n",
       "      <th>2</th>\n",
       "      <td>Agriculture/Forest/Fish/Hunt</td>\n",
       "      <td>0.17</td>\n",
       "    </tr>\n",
       "    <tr>\n",
       "      <th>3</th>\n",
       "      <td>Entertainment/Rec Svcs</td>\n",
       "      <td>2.93</td>\n",
       "    </tr>\n",
       "    <tr>\n",
       "      <th>4</th>\n",
       "      <td>Construction</td>\n",
       "      <td>2.84</td>\n",
       "    </tr>\n",
       "    <tr>\n",
       "      <th>5</th>\n",
       "      <td>Educational Svcs</td>\n",
       "      <td>9.83</td>\n",
       "    </tr>\n",
       "    <tr>\n",
       "      <th>6</th>\n",
       "      <td>Fin/Insur/RE/Rent/Lse</td>\n",
       "      <td>6.30</td>\n",
       "    </tr>\n",
       "    <tr>\n",
       "      <th>7</th>\n",
       "      <td>Health Care/Soc Asst</td>\n",
       "      <td>9.24</td>\n",
       "    </tr>\n",
       "    <tr>\n",
       "      <th>8</th>\n",
       "      <td>Information</td>\n",
       "      <td>3.66</td>\n",
       "    </tr>\n",
       "    <tr>\n",
       "      <th>9</th>\n",
       "      <td>Mgmt of Companies</td>\n",
       "      <td>0.13</td>\n",
       "    </tr>\n",
       "    <tr>\n",
       "      <th>10</th>\n",
       "      <td>Total Manufacturing</td>\n",
       "      <td>1.20</td>\n",
       "    </tr>\n",
       "    <tr>\n",
       "      <th>11</th>\n",
       "      <td>Oth Svcs, Not Pub Admin</td>\n",
       "      <td>9.11</td>\n",
       "    </tr>\n",
       "    <tr>\n",
       "      <th>12</th>\n",
       "      <td>Prof/Sci/Tech/Admin</td>\n",
       "      <td>20.28</td>\n",
       "    </tr>\n",
       "    <tr>\n",
       "      <th>13</th>\n",
       "      <td>Public Administration</td>\n",
       "      <td>16.22</td>\n",
       "    </tr>\n",
       "    <tr>\n",
       "      <th>14</th>\n",
       "      <td>Retail Trade</td>\n",
       "      <td>4.41</td>\n",
       "    </tr>\n",
       "    <tr>\n",
       "      <th>15</th>\n",
       "      <td>Transport/Warehse/Utils</td>\n",
       "      <td>2.88</td>\n",
       "    </tr>\n",
       "    <tr>\n",
       "      <th>16</th>\n",
       "      <td>Wholesale Trade</td>\n",
       "      <td>0.42</td>\n",
       "    </tr>\n",
       "  </tbody>\n",
       "</table>\n",
       "</div>"
      ],
      "text/plain": [
       "                        Category  Employed Civilian 16+ by Industry (Percent) \n",
       "0    Accommodation/Food Services                                          6.75\n",
       "1         Admin/Spprt/Waste Mgmt                                          3.63\n",
       "2   Agriculture/Forest/Fish/Hunt                                          0.17\n",
       "3         Entertainment/Rec Svcs                                          2.93\n",
       "4                   Construction                                          2.84\n",
       "5               Educational Svcs                                          9.83\n",
       "6          Fin/Insur/RE/Rent/Lse                                          6.30\n",
       "7           Health Care/Soc Asst                                          9.24\n",
       "8                    Information                                          3.66\n",
       "9              Mgmt of Companies                                          0.13\n",
       "10           Total Manufacturing                                          1.20\n",
       "11       Oth Svcs, Not Pub Admin                                          9.11\n",
       "12           Prof/Sci/Tech/Admin                                         20.28\n",
       "13         Public Administration                                         16.22\n",
       "14                  Retail Trade                                          4.41\n",
       "15       Transport/Warehse/Utils                                          2.88\n",
       "16               Wholesale Trade                                          0.42"
      ]
     },
     "execution_count": 32,
     "metadata": {},
     "output_type": "execute_result"
    }
   ],
   "source": [
    "df"
   ]
  },
  {
   "cell_type": "code",
   "execution_count": 60,
   "id": "4a34e524",
   "metadata": {},
   "outputs": [
    {
     "data": {
      "image/png": "[encoded data removed]",
      "text/plain": [
       "<Figure size 576x432 with 1 Axes>"
      ]
     },
     "metadata": {
      "needs_background": "light"
     },
     "output_type": "display_data"
    }
   ],
   "source": [
    "# Define data for the chart\n",
    "locations = q[\"Category\"]\n",
    "data1 = q[\"Employed Civilian 16+ by Industry (Percent) .1\"]\n",
    "data2 = q[\"Employed Civilian 16+ by Industry (Percent) \"]\n",
    "\n",
    "# Define the width of the bars\n",
    "bar_width = 0.35\n",
    "bar_height = 0.35\n",
    "\n",
    "# Set the x-coordinates of the bars\n",
    "x_pos1 = np.arange(len(locations))\n",
    "x_pos2 = [x + bar_width for x in x_pos1]\n",
    "\n",
    "# Create a horizontal bar chart comparing the two data sets\n",
    "fig, ax = plt.subplots(figsize=(8, 6))\n",
    "ax.barh(x_pos1, data1, height=bar_width, label='District of Columbia')\n",
    "ax.barh(x_pos2, data2, height=bar_width, label='Ward 7/8')\n",
    "\n",
    "\n",
    "# Add chart title and axis labels\n",
    "ax.set_title('Professions between District of Columbia Vs. Ward 7/8')\n",
    "ax.set_xlabel('Values')\n",
    "#ax.set_ylabel('Professions')\n",
    "\n",
    "# Add y-axis tick labels\n",
    "ax.set_yticks(x_pos1 + bar_width / 2)\n",
    "ax.set_yticklabels(locations)\n",
    "\n",
    "\n",
    "# Add a legend\n",
    "ax.legend()\n",
    "\n",
    "# Adjust the spacing between subplots\n",
    "plt.subplots_adjust(left=0.2, bottom=0.1)\n",
    "\n",
    "\n",
    "# Display the chart\n",
    "plt.show()\n"
   ]
  },
  {
   "cell_type": "code",
   "execution_count": 20,
   "id": "504a8f0c",
   "metadata": {},
   "outputs": [],
   "source": [
    "p = df.loc[[0, 7, 12, 14,15]]"
   ]
  },
  {
   "cell_type": "code",
   "execution_count": 34,
   "id": "258f5b4d",
   "metadata": {},
   "outputs": [],
   "source": [
    "q = df3.loc[[0, 7, 12, 14,15]]"
   ]
  }
 ],
 "metadata": {
  "kernelspec": {
   "display_name": "Python 3",
   "language": "python",
   "name": "python3"
  },
  "language_info": {
   "codemirror_mode": {
    "name": "ipython",
    "version": 3
   },
   "file_extension": ".py",
   "mimetype": "text/x-python",
   "name": "python",
   "nbconvert_exporter": "python",
   "pygments_lexer": "ipython3",
   "version": "3.7.3"
  }
 },
 "nbformat": 4,
 "nbformat_minor": 5
}
